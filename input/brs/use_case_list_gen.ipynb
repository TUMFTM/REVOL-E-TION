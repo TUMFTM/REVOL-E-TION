{
 "cells": [
  {
   "cell_type": "code",
   "execution_count": 1,
   "id": "initial_id",
   "metadata": {
    "collapsed": true,
    "ExecuteTime": {
     "end_time": "2023-08-04T16:16:11.910245435Z",
     "start_time": "2023-08-04T16:16:11.095930783Z"
    }
   },
   "outputs": [],
   "source": [
    "import pandas as pd\n",
    "import json\n",
    "import os"
   ]
  },
  {
   "cell_type": "code",
   "execution_count": 2,
   "outputs": [],
   "source": [
    "usecases = pd.DataFrame(columns=['name', 'dep_mean', 'dep_std', 'power', 'num_batteries'])"
   ],
   "metadata": {
    "collapsed": false,
    "ExecuteTime": {
     "end_time": "2023-08-04T16:16:11.941006144Z",
     "start_time": "2023-08-04T16:16:11.919704378Z"
    }
   },
   "id": "e89f212c44297a89"
  },
  {
   "cell_type": "code",
   "execution_count": 3,
   "outputs": [],
   "source": [
    "usecases['name'] = ['lighting_construction', 'lighting_search', 'cooling_medical', 'cooling_food', 'evbs_water', 'evbs_fire', 'milling', 'cocoa', 'powertool', 'welding', 'ceremony', 'household', 'boat_fishing']\n",
    "usecases['departure_mu'] = [18, 20, 8, 8, 8, 12, 8, 8, 9, 9, 18, 12, 18]\n",
    "usecases['departure_sig'] = [1, 1, 1, 1, 1, 1, 1, 1, 1, 1, 1, 1, 1]\n",
    "usecases['power'] = [420, 84, 76, 75, 110, 1100, 750, 1850, 650, 400, 2000, 10, 1092]\n",
    "usecases['num_batteries'] = [2, 1, 1, 1, 1, 1, 3, 4, 1, 1, 6, 1, 4]\n",
    "usecases['rel_prob'] = [2, 1, 1, 3, 1, 1, 3, 2, 2, 3, 3, 4, 1]"
   ],
   "metadata": {
    "collapsed": false,
    "ExecuteTime": {
     "end_time": "2023-08-04T16:16:11.950484923Z",
     "start_time": "2023-08-04T16:16:11.942524507Z"
    }
   },
   "id": "c1bf4e7ed095623f"
  },
  {
   "cell_type": "code",
   "execution_count": 4,
   "outputs": [],
   "source": [
    "file_path = os.path.join(os.getcwd(), 'brs_usecases.json')\n",
    "usecases.to_json(file_path, orient='records')    "
   ],
   "metadata": {
    "collapsed": false,
    "ExecuteTime": {
     "end_time": "2023-08-04T16:16:11.978850267Z",
     "start_time": "2023-08-04T16:16:11.954558339Z"
    }
   },
   "id": "b8330840452c331d"
  }
 ],
 "metadata": {
  "kernelspec": {
   "display_name": "Python 3",
   "language": "python",
   "name": "python3"
  },
  "language_info": {
   "codemirror_mode": {
    "name": "ipython",
    "version": 2
   },
   "file_extension": ".py",
   "mimetype": "text/x-python",
   "name": "python",
   "nbconvert_exporter": "python",
   "pygments_lexer": "ipython2",
   "version": "2.7.6"
  }
 },
 "nbformat": 4,
 "nbformat_minor": 5
}
