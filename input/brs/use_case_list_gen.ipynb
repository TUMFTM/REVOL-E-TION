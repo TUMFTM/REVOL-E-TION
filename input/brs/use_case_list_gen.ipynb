{
 "cells": [
  {
   "cell_type": "code",
   "execution_count": 21,
   "id": "initial_id",
   "metadata": {
    "collapsed": true,
    "ExecuteTime": {
     "end_time": "2023-08-03T13:39:06.059722791Z",
     "start_time": "2023-08-03T13:39:06.006430625Z"
    }
   },
   "outputs": [],
   "source": [
    "import pandas as pd\n",
    "import json\n",
    "import os"
   ]
  },
  {
   "cell_type": "code",
   "execution_count": 22,
   "outputs": [],
   "source": [
    "usecases = pd.DataFrame(columns=['name', 'dep_mean', 'dep_std', 'power', 'num_batteries'])"
   ],
   "metadata": {
    "collapsed": false,
    "ExecuteTime": {
     "end_time": "2023-08-03T13:39:06.060600336Z",
     "start_time": "2023-08-03T13:39:06.050112012Z"
    }
   },
   "id": "e89f212c44297a89"
  },
  {
   "cell_type": "code",
   "execution_count": 23,
   "outputs": [],
   "source": [
    "usecases['name'] = ['lighting_construction', 'lighting_search', 'cooling_medical', 'cooling_food', 'evbs_water', 'evbs_fire', 'milling', 'cocoa', 'powertool', 'welding', 'ceremony', 'household', 'boat_fishing']\n",
    "usecases['dep_mean'] = [18, 20, 8, 8, 8, 12, 8, 8, 9, 9, 18, 12, 18]\n",
    "usecases['dep_std'] = [1, 1, 1, 1, 1, 1, 1, 1, 1, 1, 1, 1, 1]\n",
    "usecases['power'] = [420, 84, 76, 75, 110, 1100, 750, 1850, 650, 400, 2000, 10, 1092]\n",
    "usecases['num_batteries'] = [2, 1, 1, 1, 1, 1, 3, 4, 1, 1, 6, 1, 4]"
   ],
   "metadata": {
    "collapsed": false,
    "ExecuteTime": {
     "end_time": "2023-08-03T13:39:06.060913001Z",
     "start_time": "2023-08-03T13:39:06.050400818Z"
    }
   },
   "id": "c1bf4e7ed095623f"
  },
  {
   "cell_type": "code",
   "execution_count": 24,
   "outputs": [],
   "source": [
    "file_path = os.path.join(os.getcwd(), 'brs_usecases.json')\n",
    "usecases.to_json(file_path, orient='records')    "
   ],
   "metadata": {
    "collapsed": false,
    "ExecuteTime": {
     "end_time": "2023-08-03T13:39:06.061092985Z",
     "start_time": "2023-08-03T13:39:06.050607143Z"
    }
   },
   "id": "b8330840452c331d"
  }
 ],
 "metadata": {
  "kernelspec": {
   "display_name": "Python 3",
   "language": "python",
   "name": "python3"
  },
  "language_info": {
   "codemirror_mode": {
    "name": "ipython",
    "version": 2
   },
   "file_extension": ".py",
   "mimetype": "text/x-python",
   "name": "python",
   "nbconvert_exporter": "python",
   "pygments_lexer": "ipython2",
   "version": "2.7.6"
  }
 },
 "nbformat": 4,
 "nbformat_minor": 5
}
