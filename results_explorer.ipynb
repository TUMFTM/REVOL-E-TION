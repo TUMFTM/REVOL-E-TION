{
 "cells": [
  {
   "cell_type": "code",
   "execution_count": 21,
   "metadata": {
    "collapsed": true,
    "ExecuteTime": {
     "end_time": "2023-07-13T05:35:38.525746211Z",
     "start_time": "2023-07-13T05:35:35.202348997Z"
    }
   },
   "outputs": [],
   "source": [
    "import os\n",
    "import pandas as pd\n",
    "import matplotlib.pyplot as plt"
   ]
  },
  {
   "cell_type": "code",
   "execution_count": 44,
   "outputs": [],
   "source": [
    "base_path = os.path.join(os.getcwd(), 'results')\n",
    "runs = ['230713_074752_example']"
   ],
   "metadata": {
    "collapsed": false,
    "ExecuteTime": {
     "end_time": "2023-07-13T05:54:42.619371517Z",
     "start_time": "2023-07-13T05:54:42.611468232Z"
    }
   }
  },
  {
   "cell_type": "markdown",
   "source": [
    "## Reading in multiple json result files"
   ],
   "metadata": {
    "collapsed": false
   }
  },
  {
   "cell_type": "code",
   "execution_count": 46,
   "outputs": [
    {
     "data": {
      "text/plain": "                         0_mg_go 1_mg_rh 2_mg_opt  \\\nblock    key                                        \nbev      totex_ann          None    None     None   \n         input_file_path    None    None     None   \nscenario ph_nsteps          None    48.0     None   \n         ch_nsteps          None    24.0     None   \n         exception          None    None     None   \n\n                                                                  3_mgev_go  \\\nblock    key                                                                  \nbev      totex_ann                                              3932.266426   \n         input_file_path  /home/philipp/code/mg_ev_opti/input/bev/bev_ex...   \nscenario ph_nsteps                                                     None   \n         ch_nsteps                                                     None   \n         exception                                                     None   \n\n                                                                  4_mgev_rh  \\\nblock    key                                                                  \nbev      totex_ann                                              3932.266426   \n         input_file_path  /home/philipp/code/mg_ev_opti/input/bev/bev_ex...   \nscenario ph_nsteps                                                     48.0   \n         ch_nsteps                                                     24.0   \n         exception                                                     None   \n\n                                                                 5_mgev_inf  \\\nblock    key                                                                  \nbev      totex_ann                                                     None   \n         input_file_path  /home/philipp/code/mg_ev_opti/input/bev/bev_ex...   \nscenario ph_nsteps                                                     None   \n         ch_nsteps                                                     None   \n         exception        Optimization ended with status warning and ter...   \n\n                                                                 5_mgev_opt  \nblock    key                                                                 \nbev      totex_ann                                              3914.545012  \n         input_file_path  /home/philipp/code/mg_ev_opti/input/bev/bev_ex...  \nscenario ph_nsteps                                                     None  \n         ch_nsteps                                                     None  \n         exception                                                     None  ",
      "text/html": "<div>\n<style scoped>\n    .dataframe tbody tr th:only-of-type {\n        vertical-align: middle;\n    }\n\n    .dataframe tbody tr th {\n        vertical-align: top;\n    }\n\n    .dataframe thead th {\n        text-align: right;\n    }\n</style>\n<table border=\"1\" class=\"dataframe\">\n  <thead>\n    <tr style=\"text-align: right;\">\n      <th></th>\n      <th></th>\n      <th>0_mg_go</th>\n      <th>1_mg_rh</th>\n      <th>2_mg_opt</th>\n      <th>3_mgev_go</th>\n      <th>4_mgev_rh</th>\n      <th>5_mgev_inf</th>\n      <th>5_mgev_opt</th>\n    </tr>\n    <tr>\n      <th>block</th>\n      <th>key</th>\n      <th></th>\n      <th></th>\n      <th></th>\n      <th></th>\n      <th></th>\n      <th></th>\n      <th></th>\n    </tr>\n  </thead>\n  <tbody>\n    <tr>\n      <th rowspan=\"2\" valign=\"top\">bev</th>\n      <th>totex_ann</th>\n      <td>None</td>\n      <td>None</td>\n      <td>None</td>\n      <td>3932.266426</td>\n      <td>3932.266426</td>\n      <td>None</td>\n      <td>3914.545012</td>\n    </tr>\n    <tr>\n      <th>input_file_path</th>\n      <td>None</td>\n      <td>None</td>\n      <td>None</td>\n      <td>/home/philipp/code/mg_ev_opti/input/bev/bev_ex...</td>\n      <td>/home/philipp/code/mg_ev_opti/input/bev/bev_ex...</td>\n      <td>/home/philipp/code/mg_ev_opti/input/bev/bev_ex...</td>\n      <td>/home/philipp/code/mg_ev_opti/input/bev/bev_ex...</td>\n    </tr>\n    <tr>\n      <th rowspan=\"3\" valign=\"top\">scenario</th>\n      <th>ph_nsteps</th>\n      <td>None</td>\n      <td>48.0</td>\n      <td>None</td>\n      <td>None</td>\n      <td>48.0</td>\n      <td>None</td>\n      <td>None</td>\n    </tr>\n    <tr>\n      <th>ch_nsteps</th>\n      <td>None</td>\n      <td>24.0</td>\n      <td>None</td>\n      <td>None</td>\n      <td>24.0</td>\n      <td>None</td>\n      <td>None</td>\n    </tr>\n    <tr>\n      <th>exception</th>\n      <td>None</td>\n      <td>None</td>\n      <td>None</td>\n      <td>None</td>\n      <td>None</td>\n      <td>Optimization ended with status warning and ter...</td>\n      <td>None</td>\n    </tr>\n  </tbody>\n</table>\n</div>"
     },
     "execution_count": 46,
     "metadata": {},
     "output_type": "execute_result"
    }
   ],
   "source": [
    "result_data = pd.DataFrame()\n",
    "for run in runs:\n",
    "        file_path = os.path.join(base_path,run, run + '.json')\n",
    "        df = pd.read_json(file_path, orient='records', lines=True)\n",
    "        result_data = pd.concat([result_data, df], axis=1)\n",
    "# create multiindex\n",
    "result_data.set_index(['block', 'key'], inplace=True)\n",
    "# sort columns alphabetically\n",
    "result_data = result_data.reindex(sorted(result_data.columns), axis=1)\n",
    "result_data.tail()"
   ],
   "metadata": {
    "collapsed": false,
    "ExecuteTime": {
     "end_time": "2023-07-13T05:55:02.143690308Z",
     "start_time": "2023-07-13T05:55:02.128716784Z"
    }
   }
  },
  {
   "cell_type": "code",
   "execution_count": 49,
   "outputs": [
    {
     "data": {
      "text/plain": "<bound method DataFrame.info of                                                                         0_mg_go  \\\nblock    key                                                                      \nrun      name                                                               run   \n         cwd                                      /home/philipp/code/mg_ev_opti   \n         scenarios_file_path  /home/philipp/code/mg_ev_opti/input/scenarios/...   \n         settings_file_path   /home/philipp/code/mg_ev_opti/input/settings/d...   \n         result_path                      /home/philipp/code/mg_ev_opti/results   \n...                                                                         ...   \nbev      totex_ann                                                         None   \n         input_file_path                                                   None   \nscenario ph_nsteps                                                         None   \n         ch_nsteps                                                         None   \n         exception                                                         None   \n\n                                                                        1_mg_rh  \\\nblock    key                                                                      \nrun      name                                                               run   \n         cwd                                      /home/philipp/code/mg_ev_opti   \n         scenarios_file_path  /home/philipp/code/mg_ev_opti/input/scenarios/...   \n         settings_file_path   /home/philipp/code/mg_ev_opti/input/settings/d...   \n         result_path                      /home/philipp/code/mg_ev_opti/results   \n...                                                                         ...   \nbev      totex_ann                                                         None   \n         input_file_path                                                   None   \nscenario ph_nsteps                                                         48.0   \n         ch_nsteps                                                         24.0   \n         exception                                                         None   \n\n                                                                       2_mg_opt  \\\nblock    key                                                                      \nrun      name                                                               run   \n         cwd                                      /home/philipp/code/mg_ev_opti   \n         scenarios_file_path  /home/philipp/code/mg_ev_opti/input/scenarios/...   \n         settings_file_path   /home/philipp/code/mg_ev_opti/input/settings/d...   \n         result_path                      /home/philipp/code/mg_ev_opti/results   \n...                                                                         ...   \nbev      totex_ann                                                         None   \n         input_file_path                                                   None   \nscenario ph_nsteps                                                         None   \n         ch_nsteps                                                         None   \n         exception                                                         None   \n\n                                                                      3_mgev_go  \\\nblock    key                                                                      \nrun      name                                                               run   \n         cwd                                      /home/philipp/code/mg_ev_opti   \n         scenarios_file_path  /home/philipp/code/mg_ev_opti/input/scenarios/...   \n         settings_file_path   /home/philipp/code/mg_ev_opti/input/settings/d...   \n         result_path                      /home/philipp/code/mg_ev_opti/results   \n...                                                                         ...   \nbev      totex_ann                                                  3932.266426   \n         input_file_path      /home/philipp/code/mg_ev_opti/input/bev/bev_ex...   \nscenario ph_nsteps                                                         None   \n         ch_nsteps                                                         None   \n         exception                                                         None   \n\n                                                                      4_mgev_rh  \\\nblock    key                                                                      \nrun      name                                                               run   \n         cwd                                      /home/philipp/code/mg_ev_opti   \n         scenarios_file_path  /home/philipp/code/mg_ev_opti/input/scenarios/...   \n         settings_file_path   /home/philipp/code/mg_ev_opti/input/settings/d...   \n         result_path                      /home/philipp/code/mg_ev_opti/results   \n...                                                                         ...   \nbev      totex_ann                                                  3932.266426   \n         input_file_path      /home/philipp/code/mg_ev_opti/input/bev/bev_ex...   \nscenario ph_nsteps                                                         48.0   \n         ch_nsteps                                                         24.0   \n         exception                                                         None   \n\n                                                                     5_mgev_inf  \\\nblock    key                                                                      \nrun      name                                                               run   \n         cwd                                      /home/philipp/code/mg_ev_opti   \n         scenarios_file_path  /home/philipp/code/mg_ev_opti/input/scenarios/...   \n         settings_file_path   /home/philipp/code/mg_ev_opti/input/settings/d...   \n         result_path                      /home/philipp/code/mg_ev_opti/results   \n...                                                                         ...   \nbev      totex_ann                                                         None   \n         input_file_path      /home/philipp/code/mg_ev_opti/input/bev/bev_ex...   \nscenario ph_nsteps                                                         None   \n         ch_nsteps                                                         None   \n         exception            Optimization ended with status warning and ter...   \n\n                                                                     5_mgev_opt  \nblock    key                                                                     \nrun      name                                                               run  \n         cwd                                      /home/philipp/code/mg_ev_opti  \n         scenarios_file_path  /home/philipp/code/mg_ev_opti/input/scenarios/...  \n         settings_file_path   /home/philipp/code/mg_ev_opti/input/settings/d...  \n         result_path                      /home/philipp/code/mg_ev_opti/results  \n...                                                                         ...  \nbev      totex_ann                                                  3914.545012  \n         input_file_path      /home/philipp/code/mg_ev_opti/input/bev/bev_ex...  \nscenario ph_nsteps                                                         None  \n         ch_nsteps                                                         None  \n         exception                                                         None  \n\n[341 rows x 7 columns]>"
     },
     "execution_count": 49,
     "metadata": {},
     "output_type": "execute_result"
    }
   ],
   "source": [
    "result_data.info"
   ],
   "metadata": {
    "collapsed": false,
    "ExecuteTime": {
     "end_time": "2023-07-13T05:58:10.427904825Z",
     "start_time": "2023-07-13T05:58:10.423949105Z"
    }
   }
  },
  {
   "cell_type": "markdown",
   "source": [
    "## LCOE over all scenarios"
   ],
   "metadata": {
    "collapsed": false
   }
  },
  {
   "cell_type": "code",
   "execution_count": 47,
   "outputs": [
    {
     "data": {
      "text/plain": "<function matplotlib.pyplot.show(close=None, block=None)>"
     },
     "execution_count": 47,
     "metadata": {},
     "output_type": "execute_result"
    },
    {
     "data": {
      "text/plain": "<Figure size 640x480 with 1 Axes>",
      "image/png": "[encoded data removed]"
     },
     "metadata": {},
     "output_type": "display_data"
    }
   ],
   "source": [
    "block = 'scenario'\n",
    "key = 'lcoe_dis'\n",
    "factor = 1e5\n",
    "\n",
    "data = result_data.loc[(block, key), :] * factor\n",
    "plt.bar(range(len(data)), data)\n",
    "plt.xticks(range(len(data)), data.index)\n",
    "plt.show"
   ],
   "metadata": {
    "collapsed": false,
    "ExecuteTime": {
     "end_time": "2023-07-13T05:55:22.656118632Z",
     "start_time": "2023-07-13T05:55:22.561980395Z"
    }
   }
  },
  {
   "cell_type": "markdown",
   "source": [
    "## Whatever else you want to plot"
   ],
   "metadata": {
    "collapsed": false
   }
  },
  {
   "cell_type": "code",
   "execution_count": null,
   "outputs": [],
   "source": [],
   "metadata": {
    "collapsed": false
   }
  }
 ],
 "metadata": {
  "kernelspec": {
   "display_name": "Python 3",
   "language": "python",
   "name": "python3"
  },
  "language_info": {
   "codemirror_mode": {
    "name": "ipython",
    "version": 2
   },
   "file_extension": ".py",
   "mimetype": "text/x-python",
   "name": "python",
   "nbconvert_exporter": "python",
   "pygments_lexer": "ipython2",
   "version": "2.7.6"
  }
 },
 "nbformat": 4,
 "nbformat_minor": 0
}
